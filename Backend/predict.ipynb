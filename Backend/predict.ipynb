{
 "cells": [
  {
   "cell_type": "code",
   "execution_count": 1,
   "metadata": {},
   "outputs": [],
   "source": [
    "#########################################\n",
    "##The model deals with the prediction  ##\n",
    "##predict required commodities for     ##\n",
    "##each county each month and the total ##\n",
    "## required for the next year          ##\n",
    "#########################################"
   ]
  },
  {
   "cell_type": "code",
   "execution_count": 2,
   "metadata": {},
   "outputs": [],
   "source": [
    "import pandas as pd\n",
    "import pickle \n",
    "import json\n",
    "\n",
    "df  = pd.read_csv('data.csv')\n",
    "\n",
    "#df.head()"
   ]
  },
  {
   "cell_type": "code",
   "execution_count": 3,
   "metadata": {},
   "outputs": [],
   "source": [
    "#create a timestamp(the format is YYYY-MM-DD)\n",
    "dateformat  = []\n",
    "\n",
    "def get_datetime():\n",
    "    dateformat.clear()\n",
    "    for timestamp in df['periodid']:\n",
    "\n",
    "        dates = str(timestamp)[:4]+\"-\"+str(timestamp)[-2:]\n",
    "\n",
    "        dateformat.append(dates)\n",
    "\n",
    "get_datetime()\n",
    "#print(datetime)"
   ]
  },
  {
   "cell_type": "code",
   "execution_count": 4,
   "metadata": {},
   "outputs": [],
   "source": [
    "#per county and loop for all\n",
    "#rename the columns\n",
    "new_names  = {\"Baringo County\": 'baringo', \"Bomet County\": 'bomet', \"Bungoma County\": 'bungoma', \"Busia County\": 'busia', \"Elgeyo Marakwet County\": 'elgeyo',\n",
    "               \"Embu County\": 'embu', \"Garissa County\": 'garissa', \"Homa Bay County\": 'homabay', \"Isiolo County\": 'isiolo', \"Kajiado County\": 'kajiado',\n",
    "                \"Kakamega County\": 'kakamega', \"Kericho County\": 'kericho', \"Kiambu County\": 'kiambu', \"Kilifi County\": 'kilifi', \"Kirinyaga County\": 'kirinyaga',\n",
    "                \"Kisii County\": 'kisii', \"Kisumu County\": 'kisumu', \"Kitui County\": 'kitui', \"Kwale County\": 'kwale', \"Laikipia County\": 'laikipia', \"Lamu County\": 'lamu',\n",
    "                \"Machakos County\": 'machakos', \"Makueni County\": 'makueni', \"Mandera County\": 'mandera', \"Marsabit County\": 'marsabit', \"Meru County\": 'meru', \"Migori County\": 'migori',\n",
    "                \"Mombasa County\": 'mombasa', \"Muranga County\": 'muranga', \"Nairobi County\": 'nairobi', \"Nakuru County\": 'nakuru', \"Nandi County\": 'nandi', \"Narok County\": 'narok',\n",
    "                \"Nyamira County\": 'nyamira', \"Nyandarua County\": 'nyandarua', \"Nyeri County\": 'nyeri', \"Samburu County\": 'samburu', \"Siaya County\": 'siaya', \"Taita Taveta County\": 'taita', \n",
    "                \"Tana River County\": 'tanariver', \"Tharaka Nithi County\": 'tharaka', \"Trans Nzoia County\": 'transzoia', \"Turkana County\": 'turkana', \"Uasin Gishu County\": 'uasingishu',\n",
    "                \"Vihiga County\": 'vihiga', \"Wajir County\": 'wajir', \"West Pokot County\": 'westpokot'}\n",
    "\n",
    "df.rename(columns=new_names, inplace=True)\n",
    "months  = [\"January\", \"February\", \"March\", \"April\", \"May\", \"June\", \"July\", \"August\", \"September\", \"October\", \"November\", \"December\"]\n",
    "years = [ periodid for periodid in df['periodid']]"
   ]
  },
  {
   "cell_type": "code",
   "execution_count": 5,
   "metadata": {},
   "outputs": [],
   "source": [
    "#create a data to be supported during prediction(the format is y)\n",
    "from math import floor\n",
    "county_monthly_data = []\n",
    "\n",
    "def county_year_consumption(county):\n",
    "   \n",
    "    \"\"\"This county_year_consumption function gives out the total commodities dispatched a certain complete year\n",
    "       for a particular county\n",
    "    \"\"\"\n",
    "    #run above function to get the year periods in place\n",
    "    get_datetime()\n",
    "    county_monthly_data.clear()\n",
    "    try:\n",
    "      for periodid in years:\n",
    "         val = df.loc[df['periodid']==int(periodid)].sum()\n",
    "         \n",
    "         commodity_total = val[county]\n",
    "         if commodity_total == 0:\n",
    "            county_monthly_data.append(0)\n",
    "         else:\n",
    "            county_monthly_data.append(floor(commodity_total))\n",
    "         #print(f\"{county} has {commodity_total} kits in {periodid}\")\n",
    "      \n",
    "       \n",
    "    except Exception as e:\n",
    "       \n",
    "       if e.__class__.__name__ == 'KeyError':\n",
    "          print(\"Check if the county name is accurate.Or ask the lead developer for solution.\")\n",
    "\n"
   ]
  },
  {
   "cell_type": "code",
   "execution_count": 6,
   "metadata": {},
   "outputs": [
    {
     "name": "stderr",
     "output_type": "stream",
     "text": [
      "Importing plotly failed. Interactive plots will not work.\n"
     ]
    }
   ],
   "source": [
    "import numpy as np\n",
    "#predict using the prophet\n",
    "from prophet import Prophet\n",
    "from prophet.diagnostics import performance_metrics, cross_validation\n",
    "import datetime\n",
    "\n",
    "predicted_data = []\n",
    "\n",
    "def predict(county):\n",
    "    #create a dataframe\n",
    "    #Have the data in a dictionary \n",
    "    #the first key will be ds while the other y\n",
    "    # Create a dataframe with a datetime column and a corresponding numeric column\n",
    "    county_year_consumption(county)\n",
    "    #convert the list of datetime to a pandas datetime object\n",
    "    datetime_index  = pd.to_datetime(dateformat, format='%Y-%m')\n",
    "    #Extract the end month of the month for each month\n",
    "    end_of_month = datetime_index + pd.offsets.MonthBegin(1)\n",
    "    #print(end_of_month)\n",
    "    dataframe  = {'ds':end_of_month , 'y': county_monthly_data}\n",
    "\n",
    "    new_df = pd.DataFrame(dataframe)\n",
    "\n",
    "    #new_df.head()\n",
    "    # Instantiate a Prophet object and fit the model to the data\n",
    "    model  = Prophet()\n",
    "\n",
    "    model.fit(new_df)\n",
    "\n",
    "    # Create a dataframe with dates to make a prediction for\n",
    "    future  = model.make_future_dataframe(periods=11, freq='MS')\n",
    "\n",
    "    # Use the model to make a prediction for the next 12 months\n",
    "    forecast  = model.predict(future)\n",
    "\n",
    "    #print the predicted values for the next 12 months\n",
    "    forecasted = forecast[['ds', 'yhat']]\n",
    "\n",
    "    ds_values = forecasted.tail(12)['ds'].values\n",
    "    yhat_values = forecasted.tail(12)['yhat'].values\n",
    "\n",
    "    for date_time,predicted_value,month in zip(ds_values,yhat_values,months):\n",
    "        actual_datetime = pd.to_datetime(date_time).strftime('%Y-%m-%d')\n",
    "        \n",
    "        predicted_data.append(f\"Prediction for {county} in {month} on {actual_datetime} is {floor(predicted_value)}\")\n",
    "    \n",
    "    \n",
    "    #model.plot(forecast)\n"
   ]
  },
  {
   "cell_type": "code",
   "execution_count": 7,
   "metadata": {},
   "outputs": [
    {
     "name": "stderr",
     "output_type": "stream",
     "text": [
      "16:49:41 - cmdstanpy - INFO - Chain [1] start processing\n",
      "16:49:41 - cmdstanpy - INFO - Chain [1] done processing\n",
      "16:49:41 - cmdstanpy - INFO - Chain [1] start processing\n"
     ]
    },
    {
     "name": "stdout",
     "output_type": "stream",
     "text": [
      "baringo\n"
     ]
    },
    {
     "name": "stderr",
     "output_type": "stream",
     "text": [
      "16:49:42 - cmdstanpy - INFO - Chain [1] done processing\n",
      "16:49:42 - cmdstanpy - INFO - Chain [1] start processing\n"
     ]
    },
    {
     "name": "stdout",
     "output_type": "stream",
     "text": [
      "bomet\n"
     ]
    },
    {
     "name": "stderr",
     "output_type": "stream",
     "text": [
      "16:49:42 - cmdstanpy - INFO - Chain [1] done processing\n",
      "16:49:42 - cmdstanpy - INFO - Chain [1] start processing\n"
     ]
    },
    {
     "name": "stdout",
     "output_type": "stream",
     "text": [
      "bungoma\n"
     ]
    },
    {
     "name": "stderr",
     "output_type": "stream",
     "text": [
      "16:49:43 - cmdstanpy - INFO - Chain [1] done processing\n",
      "16:49:43 - cmdstanpy - INFO - Chain [1] start processing\n"
     ]
    },
    {
     "name": "stdout",
     "output_type": "stream",
     "text": [
      "busia\n"
     ]
    },
    {
     "name": "stderr",
     "output_type": "stream",
     "text": [
      "16:49:43 - cmdstanpy - INFO - Chain [1] done processing\n",
      "16:49:43 - cmdstanpy - INFO - Chain [1] start processing\n"
     ]
    },
    {
     "name": "stdout",
     "output_type": "stream",
     "text": [
      "elgeyo\n"
     ]
    },
    {
     "name": "stderr",
     "output_type": "stream",
     "text": [
      "16:49:44 - cmdstanpy - INFO - Chain [1] done processing\n",
      "16:49:44 - cmdstanpy - INFO - Chain [1] start processing\n"
     ]
    },
    {
     "name": "stdout",
     "output_type": "stream",
     "text": [
      "embu\n"
     ]
    },
    {
     "name": "stderr",
     "output_type": "stream",
     "text": [
      "16:49:44 - cmdstanpy - INFO - Chain [1] done processing\n",
      "16:49:44 - cmdstanpy - INFO - Chain [1] start processing\n"
     ]
    },
    {
     "name": "stdout",
     "output_type": "stream",
     "text": [
      "garissa\n"
     ]
    },
    {
     "name": "stderr",
     "output_type": "stream",
     "text": [
      "16:49:45 - cmdstanpy - INFO - Chain [1] done processing\n",
      "16:49:45 - cmdstanpy - INFO - Chain [1] start processing\n"
     ]
    },
    {
     "name": "stdout",
     "output_type": "stream",
     "text": [
      "homabay\n"
     ]
    },
    {
     "name": "stderr",
     "output_type": "stream",
     "text": [
      "16:49:45 - cmdstanpy - INFO - Chain [1] done processing\n",
      "16:49:45 - cmdstanpy - INFO - Chain [1] start processing\n"
     ]
    },
    {
     "name": "stdout",
     "output_type": "stream",
     "text": [
      "isiolo\n"
     ]
    },
    {
     "name": "stderr",
     "output_type": "stream",
     "text": [
      "16:49:46 - cmdstanpy - INFO - Chain [1] done processing\n",
      "16:49:46 - cmdstanpy - INFO - Chain [1] start processing\n"
     ]
    },
    {
     "name": "stdout",
     "output_type": "stream",
     "text": [
      "kajiado\n"
     ]
    },
    {
     "name": "stderr",
     "output_type": "stream",
     "text": [
      "16:49:46 - cmdstanpy - INFO - Chain [1] done processing\n",
      "16:49:46 - cmdstanpy - INFO - Chain [1] start processing\n"
     ]
    },
    {
     "name": "stdout",
     "output_type": "stream",
     "text": [
      "kakamega\n"
     ]
    },
    {
     "name": "stderr",
     "output_type": "stream",
     "text": [
      "16:49:47 - cmdstanpy - INFO - Chain [1] done processing\n",
      "16:49:47 - cmdstanpy - INFO - Chain [1] start processing\n"
     ]
    },
    {
     "name": "stdout",
     "output_type": "stream",
     "text": [
      "kericho\n"
     ]
    },
    {
     "name": "stderr",
     "output_type": "stream",
     "text": [
      "16:49:47 - cmdstanpy - INFO - Chain [1] done processing\n",
      "16:49:47 - cmdstanpy - INFO - Chain [1] start processing\n"
     ]
    },
    {
     "name": "stdout",
     "output_type": "stream",
     "text": [
      "kiambu\n"
     ]
    },
    {
     "name": "stderr",
     "output_type": "stream",
     "text": [
      "16:49:48 - cmdstanpy - INFO - Chain [1] done processing\n",
      "16:49:48 - cmdstanpy - INFO - Chain [1] start processing\n"
     ]
    },
    {
     "name": "stdout",
     "output_type": "stream",
     "text": [
      "kilifi\n"
     ]
    },
    {
     "name": "stderr",
     "output_type": "stream",
     "text": [
      "16:49:48 - cmdstanpy - INFO - Chain [1] done processing\n",
      "16:49:48 - cmdstanpy - INFO - Chain [1] start processing\n"
     ]
    },
    {
     "name": "stdout",
     "output_type": "stream",
     "text": [
      "kirinyaga\n"
     ]
    },
    {
     "name": "stderr",
     "output_type": "stream",
     "text": [
      "16:49:49 - cmdstanpy - INFO - Chain [1] done processing\n",
      "16:49:49 - cmdstanpy - INFO - Chain [1] start processing\n"
     ]
    },
    {
     "name": "stdout",
     "output_type": "stream",
     "text": [
      "kisii\n"
     ]
    },
    {
     "name": "stderr",
     "output_type": "stream",
     "text": [
      "16:49:49 - cmdstanpy - INFO - Chain [1] done processing\n",
      "16:49:49 - cmdstanpy - INFO - Chain [1] start processing\n"
     ]
    },
    {
     "name": "stdout",
     "output_type": "stream",
     "text": [
      "kisumu\n"
     ]
    },
    {
     "name": "stderr",
     "output_type": "stream",
     "text": [
      "16:49:49 - cmdstanpy - INFO - Chain [1] done processing\n",
      "16:49:50 - cmdstanpy - INFO - Chain [1] start processing\n"
     ]
    },
    {
     "name": "stdout",
     "output_type": "stream",
     "text": [
      "kitui\n"
     ]
    },
    {
     "name": "stderr",
     "output_type": "stream",
     "text": [
      "16:49:50 - cmdstanpy - INFO - Chain [1] done processing\n",
      "16:49:50 - cmdstanpy - INFO - Chain [1] start processing\n"
     ]
    },
    {
     "name": "stdout",
     "output_type": "stream",
     "text": [
      "kwale\n"
     ]
    },
    {
     "name": "stderr",
     "output_type": "stream",
     "text": [
      "16:49:50 - cmdstanpy - INFO - Chain [1] done processing\n",
      "16:49:51 - cmdstanpy - INFO - Chain [1] start processing\n"
     ]
    },
    {
     "name": "stdout",
     "output_type": "stream",
     "text": [
      "laikipia\n"
     ]
    },
    {
     "name": "stderr",
     "output_type": "stream",
     "text": [
      "16:49:51 - cmdstanpy - INFO - Chain [1] done processing\n",
      "16:49:51 - cmdstanpy - INFO - Chain [1] start processing\n"
     ]
    },
    {
     "name": "stdout",
     "output_type": "stream",
     "text": [
      "lamu\n"
     ]
    },
    {
     "name": "stderr",
     "output_type": "stream",
     "text": [
      "16:49:52 - cmdstanpy - INFO - Chain [1] done processing\n",
      "16:49:52 - cmdstanpy - INFO - Chain [1] start processing\n"
     ]
    },
    {
     "name": "stdout",
     "output_type": "stream",
     "text": [
      "machakos\n"
     ]
    },
    {
     "name": "stderr",
     "output_type": "stream",
     "text": [
      "16:49:53 - cmdstanpy - INFO - Chain [1] done processing\n",
      "16:49:53 - cmdstanpy - INFO - Chain [1] start processing\n"
     ]
    },
    {
     "name": "stdout",
     "output_type": "stream",
     "text": [
      "makueni\n"
     ]
    },
    {
     "name": "stderr",
     "output_type": "stream",
     "text": [
      "16:49:53 - cmdstanpy - INFO - Chain [1] done processing\n",
      "16:49:53 - cmdstanpy - INFO - Chain [1] start processing\n"
     ]
    },
    {
     "name": "stdout",
     "output_type": "stream",
     "text": [
      "mandera\n"
     ]
    },
    {
     "name": "stderr",
     "output_type": "stream",
     "text": [
      "16:49:54 - cmdstanpy - INFO - Chain [1] done processing\n",
      "16:49:54 - cmdstanpy - INFO - Chain [1] start processing\n"
     ]
    },
    {
     "name": "stdout",
     "output_type": "stream",
     "text": [
      "marsabit\n"
     ]
    },
    {
     "name": "stderr",
     "output_type": "stream",
     "text": [
      "16:49:54 - cmdstanpy - INFO - Chain [1] done processing\n",
      "16:49:54 - cmdstanpy - INFO - Chain [1] start processing\n"
     ]
    },
    {
     "name": "stdout",
     "output_type": "stream",
     "text": [
      "meru\n"
     ]
    },
    {
     "name": "stderr",
     "output_type": "stream",
     "text": [
      "16:49:55 - cmdstanpy - INFO - Chain [1] done processing\n",
      "16:49:55 - cmdstanpy - INFO - Chain [1] start processing\n"
     ]
    },
    {
     "name": "stdout",
     "output_type": "stream",
     "text": [
      "migori\n"
     ]
    },
    {
     "name": "stderr",
     "output_type": "stream",
     "text": [
      "16:49:55 - cmdstanpy - INFO - Chain [1] done processing\n",
      "16:49:55 - cmdstanpy - INFO - Chain [1] start processing\n"
     ]
    },
    {
     "name": "stdout",
     "output_type": "stream",
     "text": [
      "mombasa\n"
     ]
    },
    {
     "name": "stderr",
     "output_type": "stream",
     "text": [
      "16:49:56 - cmdstanpy - INFO - Chain [1] done processing\n",
      "16:49:56 - cmdstanpy - INFO - Chain [1] start processing\n"
     ]
    },
    {
     "name": "stdout",
     "output_type": "stream",
     "text": [
      "muranga\n"
     ]
    },
    {
     "name": "stderr",
     "output_type": "stream",
     "text": [
      "16:49:56 - cmdstanpy - INFO - Chain [1] done processing\n",
      "16:49:56 - cmdstanpy - INFO - Chain [1] start processing\n"
     ]
    },
    {
     "name": "stdout",
     "output_type": "stream",
     "text": [
      "nairobi\n"
     ]
    },
    {
     "name": "stderr",
     "output_type": "stream",
     "text": [
      "16:49:56 - cmdstanpy - INFO - Chain [1] done processing\n",
      "16:49:57 - cmdstanpy - INFO - Chain [1] start processing\n"
     ]
    },
    {
     "name": "stdout",
     "output_type": "stream",
     "text": [
      "nakuru\n"
     ]
    },
    {
     "name": "stderr",
     "output_type": "stream",
     "text": [
      "16:49:57 - cmdstanpy - INFO - Chain [1] done processing\n",
      "16:49:57 - cmdstanpy - INFO - Chain [1] start processing\n"
     ]
    },
    {
     "name": "stdout",
     "output_type": "stream",
     "text": [
      "nandi\n"
     ]
    },
    {
     "name": "stderr",
     "output_type": "stream",
     "text": [
      "16:49:58 - cmdstanpy - INFO - Chain [1] done processing\n",
      "16:49:58 - cmdstanpy - INFO - Chain [1] start processing\n"
     ]
    },
    {
     "name": "stdout",
     "output_type": "stream",
     "text": [
      "narok\n"
     ]
    },
    {
     "name": "stderr",
     "output_type": "stream",
     "text": [
      "16:49:58 - cmdstanpy - INFO - Chain [1] done processing\n",
      "16:49:58 - cmdstanpy - INFO - Chain [1] start processing\n"
     ]
    },
    {
     "name": "stdout",
     "output_type": "stream",
     "text": [
      "nyamira\n"
     ]
    },
    {
     "name": "stderr",
     "output_type": "stream",
     "text": [
      "16:49:59 - cmdstanpy - INFO - Chain [1] done processing\n",
      "16:49:59 - cmdstanpy - INFO - Chain [1] start processing\n"
     ]
    },
    {
     "name": "stdout",
     "output_type": "stream",
     "text": [
      "nyandarua\n"
     ]
    },
    {
     "name": "stderr",
     "output_type": "stream",
     "text": [
      "16:49:59 - cmdstanpy - INFO - Chain [1] done processing\n",
      "16:49:59 - cmdstanpy - INFO - Chain [1] start processing\n"
     ]
    },
    {
     "name": "stdout",
     "output_type": "stream",
     "text": [
      "nyeri\n"
     ]
    },
    {
     "name": "stderr",
     "output_type": "stream",
     "text": [
      "16:49:59 - cmdstanpy - INFO - Chain [1] done processing\n",
      "16:50:00 - cmdstanpy - INFO - Chain [1] start processing\n"
     ]
    },
    {
     "name": "stdout",
     "output_type": "stream",
     "text": [
      "samburu\n"
     ]
    },
    {
     "name": "stderr",
     "output_type": "stream",
     "text": [
      "16:50:00 - cmdstanpy - INFO - Chain [1] done processing\n",
      "16:50:00 - cmdstanpy - INFO - Chain [1] start processing\n"
     ]
    },
    {
     "name": "stdout",
     "output_type": "stream",
     "text": [
      "siaya\n"
     ]
    },
    {
     "name": "stderr",
     "output_type": "stream",
     "text": [
      "16:50:00 - cmdstanpy - INFO - Chain [1] done processing\n",
      "16:50:01 - cmdstanpy - INFO - Chain [1] start processing\n"
     ]
    },
    {
     "name": "stdout",
     "output_type": "stream",
     "text": [
      "taita\n"
     ]
    },
    {
     "name": "stderr",
     "output_type": "stream",
     "text": [
      "16:50:01 - cmdstanpy - INFO - Chain [1] done processing\n",
      "16:50:01 - cmdstanpy - INFO - Chain [1] start processing\n"
     ]
    },
    {
     "name": "stdout",
     "output_type": "stream",
     "text": [
      "tanariver\n"
     ]
    },
    {
     "name": "stderr",
     "output_type": "stream",
     "text": [
      "16:50:01 - cmdstanpy - INFO - Chain [1] done processing\n",
      "16:50:02 - cmdstanpy - INFO - Chain [1] start processing\n"
     ]
    },
    {
     "name": "stdout",
     "output_type": "stream",
     "text": [
      "tharaka\n"
     ]
    },
    {
     "name": "stderr",
     "output_type": "stream",
     "text": [
      "16:50:02 - cmdstanpy - INFO - Chain [1] done processing\n",
      "16:50:02 - cmdstanpy - INFO - Chain [1] start processing\n"
     ]
    },
    {
     "name": "stdout",
     "output_type": "stream",
     "text": [
      "transzoia\n"
     ]
    },
    {
     "name": "stderr",
     "output_type": "stream",
     "text": [
      "16:50:02 - cmdstanpy - INFO - Chain [1] done processing\n",
      "16:50:03 - cmdstanpy - INFO - Chain [1] start processing\n"
     ]
    },
    {
     "name": "stdout",
     "output_type": "stream",
     "text": [
      "turkana\n"
     ]
    },
    {
     "name": "stderr",
     "output_type": "stream",
     "text": [
      "16:50:03 - cmdstanpy - INFO - Chain [1] done processing\n",
      "16:50:03 - cmdstanpy - INFO - Chain [1] start processing\n"
     ]
    },
    {
     "name": "stdout",
     "output_type": "stream",
     "text": [
      "uasingishu\n"
     ]
    },
    {
     "name": "stderr",
     "output_type": "stream",
     "text": [
      "16:50:03 - cmdstanpy - INFO - Chain [1] done processing\n",
      "16:50:03 - cmdstanpy - INFO - Chain [1] start processing\n"
     ]
    },
    {
     "name": "stdout",
     "output_type": "stream",
     "text": [
      "vihiga\n"
     ]
    },
    {
     "name": "stderr",
     "output_type": "stream",
     "text": [
      "16:50:04 - cmdstanpy - INFO - Chain [1] done processing\n",
      "16:50:04 - cmdstanpy - INFO - Chain [1] start processing\n"
     ]
    },
    {
     "name": "stdout",
     "output_type": "stream",
     "text": [
      "wajir\n"
     ]
    },
    {
     "name": "stderr",
     "output_type": "stream",
     "text": [
      "16:50:04 - cmdstanpy - INFO - Chain [1] done processing\n"
     ]
    },
    {
     "name": "stdout",
     "output_type": "stream",
     "text": [
      "westpokot\n"
     ]
    }
   ],
   "source": [
    "#A fucntion that finally executes prediction for all counties\n",
    "def execute_prediction():\n",
    "    for k,v in new_names.items():\n",
    "\n",
    "        predict(v)\n",
    "    with open('county_prediction.json', 'w+') as f:\n",
    "\n",
    "        f.write(json.dumps(predicted_data)) \n",
    "\n",
    "execute_prediction()"
   ]
  }
 ],
 "metadata": {
  "kernelspec": {
   "display_name": "Python 3",
   "language": "python",
   "name": "python3"
  },
  "language_info": {
   "codemirror_mode": {
    "name": "ipython",
    "version": 3
   },
   "file_extension": ".py",
   "mimetype": "text/x-python",
   "name": "python",
   "nbconvert_exporter": "python",
   "pygments_lexer": "ipython3",
   "version": "3.10.6"
  },
  "orig_nbformat": 4,
  "vscode": {
   "interpreter": {
    "hash": "916dbcbb3f70747c44a77c7bcd40155683ae19c65e1c03b4aa3499c5328201f1"
   }
  }
 },
 "nbformat": 4,
 "nbformat_minor": 2
}
