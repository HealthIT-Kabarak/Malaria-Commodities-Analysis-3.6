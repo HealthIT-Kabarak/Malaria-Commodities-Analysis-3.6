{
 "cells": [
  {
   "cell_type": "code",
   "execution_count": 1,
   "metadata": {},
   "outputs": [],
   "source": [
    "#########################################\n",
    "##The model deals with the prediction  ##\n",
    "##predict required commodities for     ##\n",
    "##each county each month and the total ##\n",
    "## required for the next years         ##\n",
    "#########################################"
   ]
  },
  {
   "cell_type": "code",
   "execution_count": 44,
   "metadata": {},
   "outputs": [],
   "source": [
    "import pandas as pd\n",
    "\n",
    "df  = pd.read_csv('data.csv')\n",
    "\n",
    "#df.head()"
   ]
  },
  {
   "cell_type": "code",
   "execution_count": 42,
   "metadata": {},
   "outputs": [],
   "source": [
    "#create a timestamp(the format is YYYY-MM-DD)\n",
    "datetime  = []\n",
    "\n",
    "def get_datetime():\n",
    "    datetime.clear()\n",
    "    for timestamp in df['periodid']:\n",
    "\n",
    "        dates = str(timestamp)[:4]+\"-\"+str(timestamp)[-2:]\n",
    "\n",
    "        datetime.append(dates)\n",
    "\n",
    "get_datetime()\n",
    "#print(datetime)"
   ]
  },
  {
   "cell_type": "code",
   "execution_count": 4,
   "metadata": {},
   "outputs": [],
   "source": [
    "#per county and loop for all\n",
    "#rename the columns\n",
    "new_names  = {\"Baringo County\": 'baringo', \"Bomet County\": 'bomet', \"Bungoma County\": 'bungoma', \"Busia County\": 'busia', \"Elgeyo Marakwet County\": 'elgeyo',\n",
    "               \"Embu County\": 'embu', \"Garissa County\": 'garissa', \"Homa Bay County\": 'homabay', \"Isiolo County\": 'isiolo', \"Kajiado County\": 'kajiado',\n",
    "                \"Kakamega County\": 'kakamega', \"Kericho County\": 'kericho', \"Kiambu County\": 'kiambu', \"Kilifi County\": 'kilifi', \"Kirinyaga County\": 'kirinyaga',\n",
    "                \"Kisii County\": 'kisii', \"Kisumu County\": 'kisumu', \"Kitui County\": 'kitui', \"Kwale County\": 'kwale', \"Laikipia County\": 'laikipia', \"Lamu County\": 'lamu',\n",
    "                \"Machakos County\": 'machakos', \"Makueni County\": 'makueni', \"Mandera County\": 'mandera', \"Marsabit County\": 'marsabit', \"Meru County\": 'meru', \"Migori County\": 'migori',\n",
    "                \"Mombasa County\": 'mombasa', \"Muranga County\": 'muranga', \"Nairobi County\": 'nairobi', \"Nakuru County\": 'nakuru', \"Nandi County\": 'nandi', \"Narok County\": 'narok',\n",
    "                \"Nyamira County\": 'nyamira', \"Nyandarua County\": 'nyandarua', \"Nyeri County\": 'nyeri', \"Samburu County\": 'samburu', \"Siaya County\": 'siaya', \"Taita Taveta County\": 'taita', \n",
    "                \"Tana River County\": 'tanariver', \"Tharaka Nithi County\": 'tharaka', \"Trans Nzoia County\": 'transzoia', \"Turkana County\": 'turkana', \"Uasin Gishu County\": 'uasingishu',\n",
    "                \"Vihiga County\": 'vihiga', \"Wajir County\": 'wajir', \"West Pokot County\": 'westpokot'}\n",
    "\n",
    "df.rename(columns=new_names, inplace=True)\n",
    "\n",
    "years = [ periodid for periodid in df['periodid']]"
   ]
  },
  {
   "cell_type": "code",
   "execution_count": 43,
   "metadata": {},
   "outputs": [],
   "source": [
    "#create a data to be supported during prediction(the format is y)\n",
    "from math import floor\n",
    "county_monthly_data = []\n",
    "\n",
    "def county_year_consumption(county):\n",
    "   \n",
    "    \"\"\"This county_year_consumption function gives out the total commodities dispatched a certain complete year\n",
    "       for a particular county\n",
    "    \"\"\"\n",
    "    #run above function to get the year periods in place\n",
    "    get_datetime()\n",
    "    county_monthly_data.clear()\n",
    "    try:\n",
    "      for periodid in years:\n",
    "         val = df.loc[df['periodid']==int(periodid)].sum()\n",
    "         \n",
    "         commodity_total = val[county]\n",
    "         if commodity_total == 0:\n",
    "            county_monthly_data.append(0)\n",
    "         else:\n",
    "            county_monthly_data.append(floor(commodity_total))\n",
    "         #print(f\"{county} has {commodity_total} kits in {periodid}\")\n",
    "      \n",
    "       \n",
    "    except Exception as e:\n",
    "       \n",
    "       if e.__class__.__name__ == 'KeyError':\n",
    "          print(\"Check if the county name is accurate.Or ask the lead developer for solution.\")\n",
    "\n",
    "county_year_consumption('kirinyaga')\n",
    "\n"
   ]
  },
  {
   "cell_type": "code",
   "execution_count": 40,
   "metadata": {},
   "outputs": [],
   "source": [
    "import numpy as np\n",
    "#create a dataframe\n",
    "#Have the data in a dictionary \n",
    "#the first key will be ds while the other y\n",
    "# Create a dataframe with a datetime column and a corresponding numeric column\n",
    "\n",
    "#convert the list of datetime to a pandas datetime object\n",
    "datetime_index  = pd.to_datetime(datetime, format='%Y-%m')\n",
    "#Extract the end month of the month for each month\n",
    "end_of_month = datetime_index + pd.offsets.MonthBegin(1)\n",
    "#print(end_of_month)\n",
    "dataframe  = {'ds':end_of_month , 'y': county_monthly_data}\n",
    "\n",
    "new_df = pd.DataFrame(dataframe)\n",
    "\n",
    "#new_df.head()\n"
   ]
  },
  {
   "cell_type": "code",
   "execution_count": 41,
   "metadata": {},
   "outputs": [
    {
     "name": "stderr",
     "output_type": "stream",
     "text": [
      "12:56:35 - cmdstanpy - INFO - Chain [1] start processing\n",
      "12:56:36 - cmdstanpy - INFO - Chain [1] done processing\n"
     ]
    },
    {
     "name": "stdout",
     "output_type": "stream",
     "text": [
      "           ds        yhat  yhat_lower  yhat_upper\n",
      "59 2023-01-01   74.359392  -20.484325  166.057535\n",
      "60 2023-02-01  102.134585   14.330211  197.219903\n",
      "61 2023-03-01  116.931968   25.235567  214.340637\n",
      "62 2023-04-01  173.707020   79.671587  272.499378\n",
      "63 2023-05-01  137.026558   35.743772  224.878335\n",
      "64 2023-06-01  126.431857   33.134592  223.053869\n",
      "65 2023-07-01   71.095873  -17.739074  165.425560\n"
     ]
    },
    {
     "data": {
      "text/plain": [
       "\"#calculate performance metrics using cross-validation\\ndf_cv  = cross_validation(model, initial='730 days', period='180 days', horizon='365 days')\\n\\ndf_p = performance_metrics(df_cv)\\n\\n#print the performance metrics\\n\\nprint(df_p)\""
      ]
     },
     "execution_count": 41,
     "metadata": {},
     "output_type": "execute_result"
    }
   ],
   "source": [
    "#predict using the prophet\n",
    "from prophet import Prophet\n",
    "from prophet.diagnostics import performance_metrics, cross_validation\n",
    "\n",
    "# Instantiate a Prophet object and fit the model to the data\n",
    "model  = Prophet()\n",
    "\n",
    "model.fit(new_df)\n",
    "\n",
    "# Create a dataframe with dates to make a prediction for\n",
    "future  = model.make_future_dataframe(periods=6, freq='MS')\n",
    "\n",
    "# Use the model to make a prediction for the next 12 months\n",
    "forecast  = model.predict(future)\n",
    "\n",
    "#print the predicted values for the next 12 months\n",
    "print(forecast[['ds', 'yhat', 'yhat_lower', 'yhat_upper']].tail(7))\n",
    "#model.plot(forecast)\n",
    "\n",
    "\"\"\"#calculate performance metrics using cross-validation\n",
    "df_cv  = cross_validation(model, initial='730 days', period='180 days', horizon='365 days')\n",
    "\n",
    "df_p = performance_metrics(df_cv)\n",
    "\n",
    "#print the performance metrics\n",
    "\n",
    "print(df_p)\"\"\""
   ]
  }
 ],
 "metadata": {
  "kernelspec": {
   "display_name": "Python 3",
   "language": "python",
   "name": "python3"
  },
  "language_info": {
   "codemirror_mode": {
    "name": "ipython",
    "version": 3
   },
   "file_extension": ".py",
   "mimetype": "text/x-python",
   "name": "python",
   "nbconvert_exporter": "python",
   "pygments_lexer": "ipython3",
   "version": "3.10.6"
  },
  "orig_nbformat": 4,
  "vscode": {
   "interpreter": {
    "hash": "916dbcbb3f70747c44a77c7bcd40155683ae19c65e1c03b4aa3499c5328201f1"
   }
  }
 },
 "nbformat": 4,
 "nbformat_minor": 2
}
