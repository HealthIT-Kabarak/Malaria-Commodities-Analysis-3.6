{
 "cells": [
  {
   "cell_type": "code",
   "execution_count": 63,
   "metadata": {},
   "outputs": [],
   "source": [
    "#########################################\n",
    "##The model deals with the prediction  ##\n",
    "##predict required commodities for     ##\n",
    "##the next year in general after taking##\n",
    "## in the amounts of the other 5 years ##\n",
    "#########################################"
   ]
  },
  {
   "cell_type": "code",
   "execution_count": 64,
   "metadata": {},
   "outputs": [],
   "source": [
    "import pandas as pd\n",
    "import math\n",
    "import numpy as np\n",
    "from prophet import Prophet\n",
    "df  = pd.read_csv('data.csv')"
   ]
  },
  {
   "cell_type": "code",
   "execution_count": 65,
   "metadata": {},
   "outputs": [],
   "source": [
    "#per county and loop for all\n",
    "#rename the columns\n",
    "new_names  = {\"Baringo County\": 'baringo', \"Bomet County\": 'bomet', \"Bungoma County\": 'bungoma', \"Busia County\": 'busia', \"Elgeyo Marakwet County\": 'elgeyo',\n",
    "               \"Embu County\": 'embu', \"Garissa County\": 'garissa', \"Homa Bay County\": 'homabay', \"Isiolo County\": 'isiolo', \"Kajiado County\": 'kajiado',\n",
    "                \"Kakamega County\": 'kakamega', \"Kericho County\": 'kericho', \"Kiambu County\": 'kiambu', \"Kilifi County\": 'kilifi', \"Kirinyaga County\": 'kirinyaga',\n",
    "                \"Kisii County\": 'kisii', \"Kisumu County\": 'kisumu', \"Kitui County\": 'kitui', \"Kwale County\": 'kwale', \"Laikipia County\": 'laikipia', \"Lamu County\": 'lamu',\n",
    "                \"Machakos County\": 'machakos', \"Makueni County\": 'makueni', \"Mandera County\": 'mandera', \"Marsabit County\": 'marsabit', \"Meru County\": 'meru', \"Migori County\": 'migori',\n",
    "                \"Mombasa County\": 'mombasa', \"Muranga County\": 'muranga', \"Nairobi County\": 'nairobi', \"Nakuru County\": 'nakuru', \"Nandi County\": 'nandi', \"Narok County\": 'narok',\n",
    "                \"Nyamira County\": 'nyamira', \"Nyandarua County\": 'nyandarua', \"Nyeri County\": 'nyeri', \"Samburu County\": 'samburu', \"Siaya County\": 'siaya', \"Taita Taveta County\": 'taita', \n",
    "                \"Tana River County\": 'tanariver', \"Tharaka Nithi County\": 'tharaka', \"Trans Nzoia County\": 'transzoia', \"Turkana County\": 'turkana', \"Uasin Gishu County\": 'uasingishu',\n",
    "                \"Vihiga County\": 'vihiga', \"Wajir County\": 'wajir', \"West Pokot County\": 'westpokot'}\n",
    "\n",
    "df.rename(columns=new_names, inplace=True)\n",
    "\n",
    "years = [ periodid for periodid in df['periodid']]"
   ]
  },
  {
   "cell_type": "code",
   "execution_count": 66,
   "metadata": {},
   "outputs": [],
   "source": [
    "#get data for each county and  whole year\n",
    "###########################################################################################\n",
    "## EACH COUNTY GETS TOTAL DATA FOR A PARTICULAR YEAR                                    ###  \n",
    "##I.E TAKES A PARTICULAR YEAR AND COUNTY, GETS THE DATA BY LOOPING THROUGH EACH MONTH  ###\n",
    "#########################################################################################\n",
    "period_ids  =  [ period for period in df['periodid']]\n",
    "years = set([str(year)[:4] for year in period_ids], )\n"
   ]
  },
  {
   "cell_type": "code",
   "execution_count": 67,
   "metadata": {},
   "outputs": [],
   "source": [
    "###############################################################\n",
    "#get total, mean and median for every column (each  year begin from 202201 to 201812)\n",
    "#ie summation from jan to dec each year\n",
    "#\n",
    "###############################################################\n",
    "\n",
    "county_yearly_vals = []\n",
    "def total_items_per_column(period=None,county=None):\n",
    "    \n",
    "    county_yearly_vals.clear()\n",
    "   \n",
    "    if county == None:\n",
    "        print(\"Please select a county for now!\")\n",
    "    else: \n",
    "        try:\n",
    "            #select the column data(\"county\")\n",
    "            county_values = df[county]\n",
    "            #print(period)\n",
    "            column_data = county_values.loc[df['periodid'] == period].sum()\n",
    "            \n",
    "            return column_data\n",
    "\n",
    "        except Exception as e:\n",
    "            print(\"Wasn't supposed to happen!\")\n",
    "\n",
    "#total_items_per_row(202201)"
   ]
  },
  {
   "cell_type": "code",
   "execution_count": 68,
   "metadata": {},
   "outputs": [],
   "source": [
    "###############################################################\n",
    "#get total, mean and median for every row (each  month begin from 202201 to 201812)\n",
    "#ie summation across january on 2021 or accross feb\n",
    "#import numpy to get mean\n",
    "#get data for each county and  whole year for rows\n",
    "###############################################################\n",
    "\n",
    "total_items_each_row = []\n",
    "\n",
    "county_yearly_vals = []\n",
    "def total_items_per_row(period=None,county=None):\n",
    "    total_items_each_row.clear()\n",
    "    \n",
    "    try:\n",
    "        row_data = df.loc[df['periodid'] == period].sum()\n",
    "        \n",
    "        for k,v in new_names.items():\n",
    "                #print(k,row_data[v],period)\n",
    "                total_items_each_row.append(row_data[v])\n",
    "        \n",
    "        #print(statistics.fmean(total_items_each_row))\n",
    "        total_items_per_period = np.sum(total_items_each_row)\n",
    "        mean_total_items = np.mean(total_items_each_row)\n",
    "        median_total_items = np.median(total_items_each_row)\n",
    "\n",
    "        return {\"sum\": total_items_per_period, \"mean\": math.floor(mean_total_items), \"median\": median_total_items}\n",
    "\n",
    "    except Exception as e:\n",
    "        print(\"Wasn't supposed to happen!\")\n",
    "#total_items_per_row(202201)"
   ]
  },
  {
   "cell_type": "code",
   "execution_count": 69,
   "metadata": {},
   "outputs": [],
   "source": [
    "\n",
    "#get total sum, mean and median per year\n",
    "#the dict takes in a specific year and the total\n",
    "###############################################################\n",
    "##\n",
    "## MONTH : BASED ON YEARS AND SUMS ACROSS ALL COUNTIES                    \n",
    "##I.E TAKES A PARTICULAR YEAR AND GETS THE DATA ACROSS AND SUMS ALL FOR THAT YEAR LOOPING THROUGH EACH\n",
    "###############################################################\n",
    "datetime = []\n",
    "totals = []\n",
    "\n",
    "def yearly_reports(year=None):\n",
    "    \n",
    "    #2022,2021,2020,2019,2018\n",
    "\n",
    "    for year in sorted(years):\n",
    "            \n",
    "            #locate all rows with specific years\n",
    "            total_mean = []\n",
    "            total_sum = []\n",
    "            total_median = []\n",
    "            for period in period_ids:\n",
    "                if str(period)[:4] == str(year):\n",
    "                    values = total_items_per_row(period)\n",
    "                    #print(values, period)\n",
    "                    total_sum.append(values['sum'])\n",
    "            #print(monthly_totals)\n",
    "            sums = np.sum(total_sum)\n",
    "            datetime.append(year)\n",
    "            totals.append(f\"{sums:.2f}\")\n",
    "\n",
    "\n",
    "yearly_reports()"
   ]
  },
  {
   "cell_type": "code",
   "execution_count": 71,
   "metadata": {},
   "outputs": [
    {
     "name": "stderr",
     "output_type": "stream",
     "text": [
      "17:45:54 - cmdstanpy - INFO - Chain [1] start processing\n",
      "17:45:54 - cmdstanpy - INFO - Chain [1] done processing\n"
     ]
    },
    {
     "name": "stdout",
     "output_type": "stream",
     "text": [
      "5888714.00\n"
     ]
    }
   ],
   "source": [
    "# Create a DataFrame with the dates and data\n",
    "new_df = pd.DataFrame({'ds': pd.to_datetime(datetime),\n",
    "                   'y': totals})\n",
    "\n",
    "# Convert the data to numeric\n",
    "new_df['y'] = pd.to_numeric(new_df['y'])\n",
    "\n",
    "# Create a Prophet model and fit the data\n",
    "m = Prophet()\n",
    "m.fit(new_df)\n",
    "\n",
    "# Create a DataFrame with the dates you want to predict\n",
    "future = m.make_future_dataframe(periods=365)\n",
    "\n",
    "# Make the predictions for the future dates\n",
    "forecast = m.predict(future)\n",
    "\n",
    "# Get the predicted values for 2023\n",
    "predictions = forecast[forecast['ds'].dt.year == 2023]['yhat'].values\n",
    "\n",
    "# Print the predictions\n",
    "print(f\"{math.floor(predictions):.2f}\")\n",
    "\n"
   ]
  }
 ],
 "metadata": {
  "kernelspec": {
   "display_name": "Python 3",
   "language": "python",
   "name": "python3"
  },
  "language_info": {
   "codemirror_mode": {
    "name": "ipython",
    "version": 3
   },
   "file_extension": ".py",
   "mimetype": "text/x-python",
   "name": "python",
   "nbconvert_exporter": "python",
   "pygments_lexer": "ipython3",
   "version": "3.10.6"
  },
  "orig_nbformat": 4
 },
 "nbformat": 4,
 "nbformat_minor": 2
}
